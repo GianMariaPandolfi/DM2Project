{
 "cells": [
  {
   "cell_type": "code",
   "execution_count": 1,
   "metadata": {},
   "outputs": [],
   "source": [
    "import math\n",
    "import numpy as np\n",
    "import pandas as pd\n",
    "import scipy\n",
    "import matplotlib.pyplot as plt\n",
    "from collections import defaultdict\n",
    "from scipy.stats.stats import pearsonr\n",
    "import seaborn as sns\n",
    "from matplotlib.pyplot import figure\n",
    "\n",
    "from sklearn.model_selection import train_test_split, cross_val_score \n",
    "\n",
    "from sklearn.metrics import confusion_matrix\n",
    "from sklearn.metrics import accuracy_score, f1_score, classification_report\n",
    "from sklearn.metrics import roc_curve, auc, roc_auc_score\n",
    "\n",
    "from sklearn.neighbors import KNeighborsClassifier\n",
    "\n",
    "from sklearn import svm, datasets\n",
    "from sklearn.model_selection import GridSearchCV"
   ]
  },
  {
   "cell_type": "code",
   "execution_count": 2,
   "metadata": {},
   "outputs": [],
   "source": [
    "from pandas.plotting import register_matplotlib_converters\n",
    "register_matplotlib_converters()"
   ]
  },
  {
   "cell_type": "code",
   "execution_count": 3,
   "metadata": {},
   "outputs": [],
   "source": [
    "def prepare_dataset(df, class_name):\n",
    "    df = remove_missing_values(df)\n",
    "    numeric_columns = get_numeric_columns(df)\n",
    "    rdf = df.copy(deep=True)\n",
    "    df, feature_names, class_values = one_hot_encoding(df, class_name)\n",
    "    real_feature_names = get_real_feature_names(rdf, numeric_columns, class_name)\n",
    "    rdf = rdf[real_feature_names + (class_values if isinstance(class_name, list) else [class_name])]\n",
    "    features_map = get_features_map(feature_names, real_feature_names)\n",
    "\n",
    "    return df, feature_names, class_values, numeric_columns, rdf, real_feature_names, features_map\n",
    "\n",
    "def remove_missing_values(df):\n",
    "    for column_name, nbr_missing in df.isna().sum().to_dict().items():\n",
    "        if nbr_missing > 0:\n",
    "            if column_name in df._get_numeric_data().columns:\n",
    "                mean = df[column_name].mean()\n",
    "                df[column_name].fillna(mean, inplace=True)\n",
    "            else:\n",
    "                mode = df[column_name].mode().values[0]\n",
    "                df[column_name].fillna(mode, inplace=True)\n",
    "    return df\n",
    "\n",
    "def get_numeric_columns(df):\n",
    "    numeric_columns = list(df._get_numeric_data().columns)\n",
    "    return numeric_columns\n",
    "\n",
    "def get_real_feature_names(rdf, numeric_columns, class_name):\n",
    "    real_feature_names = [c for c in rdf.columns if c in numeric_columns and c != class_name]\n",
    "    real_feature_names += [c for c in rdf.columns if c not in numeric_columns and c != class_name]\n",
    "    return real_feature_names\n",
    "\n",
    "def one_hot_encoding(df, class_name):\n",
    "    dfX = pd.get_dummies(df[[c for c in df.columns if c != class_name]], prefix_sep='=')\n",
    "    class_name_map = {v: k for k, v in enumerate(sorted(df[class_name].unique()))}\n",
    "    dfY = df[class_name].map(class_name_map)\n",
    "    df = pd.concat([dfX, dfY], axis=1, join_axes=[dfX.index])\n",
    "    feature_names = list(dfX.columns)\n",
    "    class_values = sorted(class_name_map)\n",
    "    return df, feature_names, class_values\n",
    "\n",
    "def get_features_map(feature_names, real_feature_names):\n",
    "    features_map = defaultdict(dict)\n",
    "    i = 0\n",
    "    j = 0\n",
    "\n",
    "    while i < len(feature_names) and j < len(real_feature_names):\n",
    "        if feature_names[i] == real_feature_names[j]:\n",
    "            features_map[j][feature_names[i]] = j\n",
    "            i += 1\n",
    "            j += 1\n",
    "        elif feature_names[i].startswith(real_feature_names[j]):\n",
    "            features_map[j][feature_names[i]] = j\n",
    "            i += 1\n",
    "        else:\n",
    "            j += 1\n",
    "    return features_map"
   ]
  },
  {
   "cell_type": "code",
   "execution_count": 4,
   "metadata": {},
   "outputs": [],
   "source": [
    "def report(results, n_top=3):\n",
    "    for i in range(1, n_top + 1):\n",
    "        candidates = np.flatnonzero(results['rank_test_score'] == i)\n",
    "        for candidate in candidates:\n",
    "            print(\"Model with rank: {0}\".format(i))\n",
    "            print(\"Mean validation score: {0:.3f} (std: {1:.3f})\".format(\n",
    "                  results['mean_test_score'][candidate],\n",
    "                  results['std_test_score'][candidate]))\n",
    "            print(\"Parameters: {0}\".format(results['params'][candidate]))\n",
    "            print(\"\")"
   ]
  },
  {
   "cell_type": "code",
   "execution_count": 5,
   "metadata": {},
   "outputs": [],
   "source": [
    "df = pd.read_csv('trainingDataAfterDataUnderstanding.csv')"
   ]
  },
  {
   "cell_type": "code",
   "execution_count": 6,
   "metadata": {},
   "outputs": [
    {
     "data": {
      "text/html": [
       "<div>\n",
       "<style scoped>\n",
       "    .dataframe tbody tr th:only-of-type {\n",
       "        vertical-align: middle;\n",
       "    }\n",
       "\n",
       "    .dataframe tbody tr th {\n",
       "        vertical-align: top;\n",
       "    }\n",
       "\n",
       "    .dataframe thead th {\n",
       "        text-align: right;\n",
       "    }\n",
       "</style>\n",
       "<table border=\"1\" class=\"dataframe\">\n",
       "  <thead>\n",
       "    <tr style=\"text-align: right;\">\n",
       "      <th></th>\n",
       "      <th>Temperature</th>\n",
       "      <th>Humidity</th>\n",
       "      <th>Light</th>\n",
       "      <th>CO2</th>\n",
       "      <th>Weekend=no</th>\n",
       "      <th>Weekend=yes</th>\n",
       "      <th>Occupancy</th>\n",
       "    </tr>\n",
       "  </thead>\n",
       "  <tbody>\n",
       "    <tr>\n",
       "      <th>0</th>\n",
       "      <td>23.18</td>\n",
       "      <td>27.2720</td>\n",
       "      <td>426.0</td>\n",
       "      <td>721.25</td>\n",
       "      <td>1</td>\n",
       "      <td>0</td>\n",
       "      <td>1</td>\n",
       "    </tr>\n",
       "    <tr>\n",
       "      <th>1</th>\n",
       "      <td>23.15</td>\n",
       "      <td>27.2675</td>\n",
       "      <td>429.5</td>\n",
       "      <td>714.00</td>\n",
       "      <td>1</td>\n",
       "      <td>0</td>\n",
       "      <td>1</td>\n",
       "    </tr>\n",
       "    <tr>\n",
       "      <th>2</th>\n",
       "      <td>23.15</td>\n",
       "      <td>27.2450</td>\n",
       "      <td>426.0</td>\n",
       "      <td>713.50</td>\n",
       "      <td>1</td>\n",
       "      <td>0</td>\n",
       "      <td>1</td>\n",
       "    </tr>\n",
       "    <tr>\n",
       "      <th>3</th>\n",
       "      <td>23.15</td>\n",
       "      <td>27.2000</td>\n",
       "      <td>426.0</td>\n",
       "      <td>708.25</td>\n",
       "      <td>1</td>\n",
       "      <td>0</td>\n",
       "      <td>1</td>\n",
       "    </tr>\n",
       "    <tr>\n",
       "      <th>4</th>\n",
       "      <td>23.10</td>\n",
       "      <td>27.2000</td>\n",
       "      <td>426.0</td>\n",
       "      <td>704.50</td>\n",
       "      <td>1</td>\n",
       "      <td>0</td>\n",
       "      <td>1</td>\n",
       "    </tr>\n",
       "  </tbody>\n",
       "</table>\n",
       "</div>"
      ],
      "text/plain": [
       "   Temperature  Humidity  Light     CO2  Weekend=no  Weekend=yes  Occupancy\n",
       "0        23.18   27.2720  426.0  721.25           1            0          1\n",
       "1        23.15   27.2675  429.5  714.00           1            0          1\n",
       "2        23.15   27.2450  426.0  713.50           1            0          1\n",
       "3        23.15   27.2000  426.0  708.25           1            0          1\n",
       "4        23.10   27.2000  426.0  704.50           1            0          1"
      ]
     },
     "execution_count": 6,
     "metadata": {},
     "output_type": "execute_result"
    }
   ],
   "source": [
    "class_name = 'Occupancy'\n",
    "res = prepare_dataset(df, class_name)\n",
    "df, feature_names, class_values, numeric_columns, rdf, real_feature_names, features_map = res\n",
    "df.head()"
   ]
  },
  {
   "cell_type": "code",
   "execution_count": 7,
   "metadata": {},
   "outputs": [],
   "source": [
    "attributes = [col for col in df.columns if col != class_name]\n",
    "X = df[attributes].values\n",
    "y = df[class_name]\n",
    "\n",
    "X_train, X_test, y_train, y_test = train_test_split(X, y, test_size=0.3, random_state=100, stratify=y)"
   ]
  },
  {
   "cell_type": "code",
   "execution_count": 8,
   "metadata": {},
   "outputs": [
    {
     "data": {
      "text/plain": [
       "KNeighborsClassifier(algorithm='auto', leaf_size=30, metric='minkowski',\n",
       "                     metric_params=None, n_jobs=None, n_neighbors=5, p=2,\n",
       "                     weights='uniform')"
      ]
     },
     "execution_count": 8,
     "metadata": {},
     "output_type": "execute_result"
    }
   ],
   "source": [
    "clf = KNeighborsClassifier(n_neighbors=5, weights='uniform')\n",
    "clf.fit(X_train, y_train)"
   ]
  },
  {
   "cell_type": "code",
   "execution_count": 9,
   "metadata": {},
   "outputs": [],
   "source": [
    "y_pred = clf.predict(X_test)"
   ]
  },
  {
   "cell_type": "code",
   "execution_count": 10,
   "metadata": {},
   "outputs": [
    {
     "name": "stdout",
     "output_type": "stream",
     "text": [
      "Accuracy 0.9901760130986492\n",
      "F1-score [0.99373695 0.9772296 ]\n",
      "              precision    recall  f1-score   support\n",
      "\n",
      "           0       1.00      0.99      0.99      1924\n",
      "           1       0.96      0.99      0.98       519\n",
      "\n",
      "    accuracy                           0.99      2443\n",
      "   macro avg       0.98      0.99      0.99      2443\n",
      "weighted avg       0.99      0.99      0.99      2443\n",
      "\n"
     ]
    }
   ],
   "source": [
    "print('Accuracy %s' % accuracy_score(y_test, y_pred))\n",
    "print('F1-score %s' % f1_score(y_test, y_pred, average=None))\n",
    "print(classification_report(y_test, y_pred))"
   ]
  },
  {
   "cell_type": "code",
   "execution_count": 11,
   "metadata": {},
   "outputs": [
    {
     "name": "stdout",
     "output_type": "stream",
     "text": [
      "Accuracy 0.9901760130986492\n",
      "F1-score [0.99376623 0.97683398]\n",
      "              precision    recall  f1-score   support\n",
      "\n",
      "           0       0.99      0.99      0.99      1924\n",
      "           1       0.98      0.97      0.98       519\n",
      "\n",
      "    accuracy                           0.99      2443\n",
      "   macro avg       0.99      0.98      0.99      2443\n",
      "weighted avg       0.99      0.99      0.99      2443\n",
      "\n"
     ]
    }
   ],
   "source": [
    "clf = KNeighborsClassifier(n_neighbors=1, weights='uniform')\n",
    "clf.fit(X_train, y_train)\n",
    "y_pred = clf.predict(X_test)\n",
    "print('Accuracy %s' % accuracy_score(y_test, y_pred))\n",
    "print('F1-score %s' % f1_score(y_test, y_pred, average=None))\n",
    "print(classification_report(y_test, y_pred))"
   ]
  },
  {
   "cell_type": "code",
   "execution_count": 12,
   "metadata": {},
   "outputs": [
    {
     "name": "stdout",
     "output_type": "stream",
     "text": [
      "Accuracy 0.9897666803110929\n",
      "F1-score [0.99350143 0.9759384 ]\n",
      "              precision    recall  f1-score   support\n",
      "\n",
      "           0       0.99      0.99      0.99      1924\n",
      "           1       0.97      0.98      0.98       519\n",
      "\n",
      "    accuracy                           0.99      2443\n",
      "   macro avg       0.98      0.99      0.98      2443\n",
      "weighted avg       0.99      0.99      0.99      2443\n",
      "\n"
     ]
    }
   ],
   "source": [
    "clf = KNeighborsClassifier(n_neighbors=3, weights='distance')\n",
    "clf.fit(X_train, y_train)\n",
    "y_pred = clf.predict(X_test)\n",
    "print('Accuracy %s' % accuracy_score(y_test, y_pred))\n",
    "print('F1-score %s' % f1_score(y_test, y_pred, average=None))\n",
    "print(classification_report(y_test, y_pred))"
   ]
  },
  {
   "cell_type": "code",
   "execution_count": 13,
   "metadata": {},
   "outputs": [
    {
     "name": "stdout",
     "output_type": "stream",
     "text": [
      "Model with rank: 1\n",
      "Mean validation score: 0.989 (std: 0.002)\n",
      "Parameters: {'n_neighbors': 8, 'weights': 'distance'}\n",
      "\n",
      "Model with rank: 2\n",
      "Mean validation score: 0.989 (std: 0.002)\n",
      "Parameters: {'n_neighbors': 11, 'weights': 'distance'}\n",
      "\n",
      "Model with rank: 3\n",
      "Mean validation score: 0.989 (std: 0.002)\n",
      "Parameters: {'n_neighbors': 5, 'weights': 'uniform'}\n",
      "\n",
      "Model with rank: 3\n",
      "Mean validation score: 0.989 (std: 0.002)\n",
      "Parameters: {'n_neighbors': 7, 'weights': 'distance'}\n",
      "\n",
      "Model with rank: 3\n",
      "Mean validation score: 0.989 (std: 0.002)\n",
      "Parameters: {'n_neighbors': 10, 'weights': 'distance'}\n",
      "\n",
      "Model with rank: 3\n",
      "Mean validation score: 0.989 (std: 0.002)\n",
      "Parameters: {'n_neighbors': 13, 'weights': 'distance'}\n",
      "\n",
      "Model with rank: 3\n",
      "Mean validation score: 0.989 (std: 0.002)\n",
      "Parameters: {'n_neighbors': 14, 'weights': 'distance'}\n",
      "\n"
     ]
    }
   ],
   "source": [
    "parameters = {'n_neighbors': np.arange(1, 20), 'weights':['uniform', 'distance']}\n",
    "\n",
    "knn = KNeighborsClassifier()\n",
    "search = GridSearchCV(knn, parameters)\n",
    "search.fit(X_train, y_train)\n",
    "report(search.cv_results_, n_top=3)"
   ]
  },
  {
   "cell_type": "code",
   "execution_count": 14,
   "metadata": {},
   "outputs": [],
   "source": [
    "clf = search.best_estimator_"
   ]
  },
  {
   "cell_type": "code",
   "execution_count": 15,
   "metadata": {},
   "outputs": [
    {
     "name": "stdout",
     "output_type": "stream",
     "text": [
      "Accuracy 0.9897666803110929\n",
      "F1-score [0.99348449 0.97616778]\n",
      "              precision    recall  f1-score   support\n",
      "\n",
      "           0       1.00      0.99      0.99      1924\n",
      "           1       0.97      0.99      0.98       519\n",
      "\n",
      "    accuracy                           0.99      2443\n",
      "   macro avg       0.98      0.99      0.98      2443\n",
      "weighted avg       0.99      0.99      0.99      2443\n",
      "\n"
     ]
    },
    {
     "data": {
      "text/plain": [
       "array([[1906,   18],\n",
       "       [   7,  512]], dtype=int64)"
      ]
     },
     "execution_count": 15,
     "metadata": {},
     "output_type": "execute_result"
    }
   ],
   "source": [
    "clf.fit(X_train, y_train)\n",
    "y_pred = clf.predict(X_test)\n",
    "print('Accuracy %s' % accuracy_score(y_test, y_pred))\n",
    "print('F1-score %s' % f1_score(y_test, y_pred, average=None))\n",
    "print(classification_report(y_test, y_pred))\n",
    "cm=confusion_matrix(y_test, y_pred)\n",
    "cm"
   ]
  },
  {
   "cell_type": "code",
   "execution_count": 16,
   "metadata": {},
   "outputs": [
    {
     "data": {
      "image/png": "[encoded data removed]",
      "text/plain": [
       "<Figure size 288x288 with 2 Axes>"
      ]
     },
     "metadata": {
      "needs_background": "light"
     },
     "output_type": "display_data"
    }
   ],
   "source": [
    "plt.matshow(cm)\n",
    "plt.title('Confusion matrix')\n",
    "plt.colorbar()\n",
    "plt.ylabel('True label')\n",
    "plt.xlabel('Predicted label')\n",
    "plt.show()"
   ]
  },
  {
   "cell_type": "code",
   "execution_count": 17,
   "metadata": {},
   "outputs": [
    {
     "name": "stdout",
     "output_type": "stream",
     "text": [
      "Accuracy: 0.9587 (+/- 0.050)\n",
      "F1-score: 0.9377 (+/- 0.078)\n"
     ]
    }
   ],
   "source": [
    "scores = cross_val_score(clf, X, y, cv=10)\n",
    "print('Accuracy: %0.4f (+/- %0.3f)' % (scores.mean(), scores.std()))\n",
    "\n",
    "scores = cross_val_score(clf, X, y, cv=10, scoring='f1_macro')\n",
    "print('F1-score: %0.4f (+/- %0.3f)' % (scores.mean(), scores.std()))"
   ]
  },
  {
   "cell_type": "code",
   "execution_count": 18,
   "metadata": {},
   "outputs": [
    {
     "name": "stdout",
     "output_type": "stream",
     "text": [
      "0.9885785073646346\n"
     ]
    }
   ],
   "source": [
    "fpr, tpr, _ = roc_curve(y_test, y_pred, pos_label=1)\n",
    "roc_auc = auc(fpr, tpr)\n",
    "print(roc_auc)\n",
    "\n",
    "roc_auc = roc_auc_score(y_test, y_pred, average=None)"
   ]
  },
  {
   "cell_type": "code",
   "execution_count": 19,
   "metadata": {},
   "outputs": [
    {
     "data": {
      "image/png": "[encoded data removed]",
      "text/plain": [
       "<Figure size 576x360 with 1 Axes>"
      ]
     },
     "metadata": {
      "needs_background": "light"
     },
     "output_type": "display_data"
    }
   ],
   "source": [
    "plt.figure(figsize=(8, 5))\n",
    "plt.plot(fpr, tpr, label='ROC curve (area = %0.2f)' % (roc_auc))\n",
    "    \n",
    "plt.plot([0, 1], [0, 1], 'k--')\n",
    "plt.xlim([0.0, 1.0])\n",
    "plt.ylim([0.0, 1.05])\n",
    "plt.xlabel('False Positive Rate', fontsize=20)\n",
    "plt.ylabel('True Positive Rate', fontsize=20) \n",
    "plt.tick_params(axis='both', which='major', labelsize=22)\n",
    "plt.legend(loc=\"lower right\", fontsize=14, frameon=False)\n",
    "plt.show()"
   ]
  },
  {
   "cell_type": "markdown",
   "metadata": {},
   "source": [
    "# Test KNN"
   ]
  },
  {
   "cell_type": "code",
   "execution_count": 20,
   "metadata": {},
   "outputs": [],
   "source": [
    "test = pd.read_csv('datatestprepared.csv')"
   ]
  },
  {
   "cell_type": "code",
   "execution_count": 21,
   "metadata": {},
   "outputs": [
    {
     "data": {
      "text/html": [
       "<div>\n",
       "<style scoped>\n",
       "    .dataframe tbody tr th:only-of-type {\n",
       "        vertical-align: middle;\n",
       "    }\n",
       "\n",
       "    .dataframe tbody tr th {\n",
       "        vertical-align: top;\n",
       "    }\n",
       "\n",
       "    .dataframe thead th {\n",
       "        text-align: right;\n",
       "    }\n",
       "</style>\n",
       "<table border=\"1\" class=\"dataframe\">\n",
       "  <thead>\n",
       "    <tr style=\"text-align: right;\">\n",
       "      <th></th>\n",
       "      <th>Temperature</th>\n",
       "      <th>Humidity</th>\n",
       "      <th>Light</th>\n",
       "      <th>CO2</th>\n",
       "      <th>Weekend=no</th>\n",
       "      <th>Weekend=yes</th>\n",
       "      <th>Occupancy</th>\n",
       "    </tr>\n",
       "  </thead>\n",
       "  <tbody>\n",
       "    <tr>\n",
       "      <th>0</th>\n",
       "      <td>21.7600</td>\n",
       "      <td>31.133333</td>\n",
       "      <td>437.333333</td>\n",
       "      <td>1029.666667</td>\n",
       "      <td>1</td>\n",
       "      <td>0</td>\n",
       "      <td>1</td>\n",
       "    </tr>\n",
       "    <tr>\n",
       "      <th>1</th>\n",
       "      <td>21.7900</td>\n",
       "      <td>31.000000</td>\n",
       "      <td>437.333333</td>\n",
       "      <td>1000.000000</td>\n",
       "      <td>1</td>\n",
       "      <td>0</td>\n",
       "      <td>1</td>\n",
       "    </tr>\n",
       "    <tr>\n",
       "      <th>2</th>\n",
       "      <td>21.7675</td>\n",
       "      <td>31.122500</td>\n",
       "      <td>434.000000</td>\n",
       "      <td>1003.750000</td>\n",
       "      <td>1</td>\n",
       "      <td>0</td>\n",
       "      <td>1</td>\n",
       "    </tr>\n",
       "    <tr>\n",
       "      <th>3</th>\n",
       "      <td>21.7675</td>\n",
       "      <td>31.122500</td>\n",
       "      <td>439.000000</td>\n",
       "      <td>1009.500000</td>\n",
       "      <td>1</td>\n",
       "      <td>0</td>\n",
       "      <td>1</td>\n",
       "    </tr>\n",
       "    <tr>\n",
       "      <th>4</th>\n",
       "      <td>21.7900</td>\n",
       "      <td>31.133333</td>\n",
       "      <td>437.333333</td>\n",
       "      <td>1005.666667</td>\n",
       "      <td>1</td>\n",
       "      <td>0</td>\n",
       "      <td>1</td>\n",
       "    </tr>\n",
       "  </tbody>\n",
       "</table>\n",
       "</div>"
      ],
      "text/plain": [
       "   Temperature   Humidity       Light          CO2  Weekend=no  Weekend=yes  \\\n",
       "0      21.7600  31.133333  437.333333  1029.666667           1            0   \n",
       "1      21.7900  31.000000  437.333333  1000.000000           1            0   \n",
       "2      21.7675  31.122500  434.000000  1003.750000           1            0   \n",
       "3      21.7675  31.122500  439.000000  1009.500000           1            0   \n",
       "4      21.7900  31.133333  437.333333  1005.666667           1            0   \n",
       "\n",
       "   Occupancy  \n",
       "0          1  \n",
       "1          1  \n",
       "2          1  \n",
       "3          1  \n",
       "4          1  "
      ]
     },
     "execution_count": 21,
     "metadata": {},
     "output_type": "execute_result"
    }
   ],
   "source": [
    "class_name = 'Occupancy'\n",
    "res = prepare_dataset(test, class_name)\n",
    "test, feature_names, class_values, numeric_columns, rdf, real_feature_names, features_map = res\n",
    "test.head()"
   ]
  },
  {
   "cell_type": "code",
   "execution_count": 22,
   "metadata": {},
   "outputs": [],
   "source": [
    "test_feature = test.drop(['Occupancy'],axis=1)\n",
    "test_label = test['Occupancy']"
   ]
  },
  {
   "cell_type": "code",
   "execution_count": 23,
   "metadata": {},
   "outputs": [],
   "source": [
    "preds=clf.predict(test_feature)"
   ]
  },
  {
   "cell_type": "code",
   "execution_count": 24,
   "metadata": {},
   "outputs": [
    {
     "name": "stdout",
     "output_type": "stream",
     "text": [
      "Test Accuracy 0.9632761536603044\n",
      "Test F1-score [0.97541514 0.92745784]\n",
      "              precision    recall  f1-score   support\n",
      "\n",
      "           0       0.99      0.96      0.98      9396\n",
      "           1       0.89      0.96      0.93      3021\n",
      "\n",
      "    accuracy                           0.96     12417\n",
      "   macro avg       0.94      0.96      0.95     12417\n",
      "weighted avg       0.97      0.96      0.96     12417\n",
      "\n"
     ]
    },
    {
     "data": {
      "text/plain": [
       "array([[9046,  350],\n",
       "       [ 106, 2915]], dtype=int64)"
      ]
     },
     "execution_count": 24,
     "metadata": {},
     "output_type": "execute_result"
    }
   ],
   "source": [
    "print('Test Accuracy %s' % accuracy_score(test_label, preds))\n",
    "print('Test F1-score %s' % f1_score(test_label, preds, average=None))\n",
    "print(classification_report(test_label, preds))\n",
    "cm=confusion_matrix(test_label, preds)\n",
    "cm"
   ]
  },
  {
   "cell_type": "code",
   "execution_count": 25,
   "metadata": {},
   "outputs": [
    {
     "data": {
      "image/png": "[encoded data removed]",
      "text/plain": [
       "<Figure size 288x288 with 2 Axes>"
      ]
     },
     "metadata": {
      "needs_background": "light"
     },
     "output_type": "display_data"
    }
   ],
   "source": [
    "plt.matshow(cm)\n",
    "plt.title('Confusion matrix')\n",
    "plt.colorbar()\n",
    "plt.ylabel('True label')\n",
    "plt.xlabel('Predicted label')\n",
    "plt.show()"
   ]
  },
  {
   "cell_type": "code",
   "execution_count": 26,
   "metadata": {},
   "outputs": [
    {
     "name": "stdout",
     "output_type": "stream",
     "text": [
      "0.9638311935650108\n"
     ]
    },
    {
     "data": {
      "text/plain": [
       "0.9638311935650108"
      ]
     },
     "execution_count": 26,
     "metadata": {},
     "output_type": "execute_result"
    }
   ],
   "source": [
    "fpr, tpr, _ = roc_curve(test_label, preds)\n",
    "roc_auc = auc(fpr, tpr)\n",
    "print(roc_auc)\n",
    "\n",
    "roc_auc = roc_auc_score(test_label, preds, average=None)\n",
    "roc_auc"
   ]
  },
  {
   "cell_type": "code",
   "execution_count": 27,
   "metadata": {},
   "outputs": [
    {
     "data": {
      "image/png": "[encoded data removed]",
      "text/plain": [
       "<Figure size 576x360 with 1 Axes>"
      ]
     },
     "metadata": {
      "needs_background": "light"
     },
     "output_type": "display_data"
    }
   ],
   "source": [
    "plt.figure(figsize=(8, 5))\n",
    "plt.plot(fpr, tpr, label='ROC curve (area = %0.2f)' % (roc_auc))\n",
    "    \n",
    "plt.plot([0, 1], [0, 1], 'k--')\n",
    "plt.xlim([0.0, 1.0])\n",
    "plt.ylim([0.0, 1.05])\n",
    "plt.xlabel('False Positive Rate', fontsize=20)\n",
    "plt.ylabel('True Positive Rate', fontsize=20) \n",
    "plt.tick_params(axis='both', which='major', labelsize=22)\n",
    "plt.legend(loc=\"lower right\", fontsize=14, frameon=False)\n",
    "plt.show()"
   ]
  }
 ],
 "metadata": {
  "kernelspec": {
   "display_name": "Python 3",
   "language": "python",
   "name": "python3"
  },
  "language_info": {
   "codemirror_mode": {
    "name": "ipython",
    "version": 3
   },
   "file_extension": ".py",
   "mimetype": "text/x-python",
   "name": "python",
   "nbconvert_exporter": "python",
   "pygments_lexer": "ipython3",
   "version": "3.6.8"
  }
 },
 "nbformat": 4,
 "nbformat_minor": 2
}
