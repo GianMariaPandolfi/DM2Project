{
 "cells": [
  {
   "cell_type": "code",
   "execution_count": 21,
   "metadata": {},
   "outputs": [],
   "source": [
    "%matplotlib inline\n",
    "\n",
    "import numpy as np\n",
    "import pandas as pd\n",
    "import matplotlib.pyplot as plt\n",
    "\n",
    "from collections import defaultdict\n",
    "\n",
    "from keras.optimizers import Adagrad\n",
    "from tslearn.shapelets import ShapeletModel\n",
    "from tslearn.shapelets import grabocka_params_to_shapelet_size_dict\n",
    "\n",
    "from tslearn.preprocessing import TimeSeriesScalerMinMax"
   ]
  },
  {
   "cell_type": "code",
   "execution_count": 78,
   "metadata": {},
   "outputs": [
    {
     "data": {
      "text/html": [
       "<div>\n",
       "<style scoped>\n",
       "    .dataframe tbody tr th:only-of-type {\n",
       "        vertical-align: middle;\n",
       "    }\n",
       "\n",
       "    .dataframe tbody tr th {\n",
       "        vertical-align: top;\n",
       "    }\n",
       "\n",
       "    .dataframe thead th {\n",
       "        text-align: right;\n",
       "    }\n",
       "</style>\n",
       "<table border=\"1\" class=\"dataframe\">\n",
       "  <thead>\n",
       "    <tr style=\"text-align: right;\">\n",
       "      <th></th>\n",
       "      <th>0</th>\n",
       "      <th>1</th>\n",
       "      <th>2</th>\n",
       "      <th>3</th>\n",
       "      <th>4</th>\n",
       "      <th>5</th>\n",
       "      <th>6</th>\n",
       "      <th>7</th>\n",
       "      <th>8</th>\n",
       "      <th>9</th>\n",
       "      <th>...</th>\n",
       "      <th>50</th>\n",
       "      <th>51</th>\n",
       "      <th>52</th>\n",
       "      <th>53</th>\n",
       "      <th>54</th>\n",
       "      <th>55</th>\n",
       "      <th>56</th>\n",
       "      <th>57</th>\n",
       "      <th>58</th>\n",
       "      <th>59</th>\n",
       "    </tr>\n",
       "  </thead>\n",
       "  <tbody>\n",
       "    <tr>\n",
       "      <th>0</th>\n",
       "      <td>426.000000</td>\n",
       "      <td>429.5</td>\n",
       "      <td>426.000000</td>\n",
       "      <td>426.000000</td>\n",
       "      <td>426.0</td>\n",
       "      <td>419.0</td>\n",
       "      <td>419.0</td>\n",
       "      <td>419.000000</td>\n",
       "      <td>419.0</td>\n",
       "      <td>419.000000</td>\n",
       "      <td>...</td>\n",
       "      <td>0.000000</td>\n",
       "      <td>0.0</td>\n",
       "      <td>0.0</td>\n",
       "      <td>0.000000</td>\n",
       "      <td>0.000000</td>\n",
       "      <td>0.0</td>\n",
       "      <td>0.0</td>\n",
       "      <td>0.000000</td>\n",
       "      <td>0.0</td>\n",
       "      <td>0.0</td>\n",
       "    </tr>\n",
       "    <tr>\n",
       "      <th>1</th>\n",
       "      <td>0.000000</td>\n",
       "      <td>0.0</td>\n",
       "      <td>0.000000</td>\n",
       "      <td>0.000000</td>\n",
       "      <td>0.0</td>\n",
       "      <td>0.0</td>\n",
       "      <td>0.0</td>\n",
       "      <td>0.000000</td>\n",
       "      <td>0.0</td>\n",
       "      <td>0.000000</td>\n",
       "      <td>...</td>\n",
       "      <td>423.666667</td>\n",
       "      <td>419.0</td>\n",
       "      <td>419.0</td>\n",
       "      <td>419.000000</td>\n",
       "      <td>411.000000</td>\n",
       "      <td>411.0</td>\n",
       "      <td>411.0</td>\n",
       "      <td>408.333333</td>\n",
       "      <td>400.0</td>\n",
       "      <td>396.0</td>\n",
       "    </tr>\n",
       "    <tr>\n",
       "      <th>2</th>\n",
       "      <td>0.000000</td>\n",
       "      <td>0.0</td>\n",
       "      <td>0.000000</td>\n",
       "      <td>0.000000</td>\n",
       "      <td>0.0</td>\n",
       "      <td>0.0</td>\n",
       "      <td>0.0</td>\n",
       "      <td>0.000000</td>\n",
       "      <td>0.0</td>\n",
       "      <td>0.000000</td>\n",
       "      <td>...</td>\n",
       "      <td>405.000000</td>\n",
       "      <td>405.0</td>\n",
       "      <td>405.0</td>\n",
       "      <td>405.000000</td>\n",
       "      <td>405.000000</td>\n",
       "      <td>412.0</td>\n",
       "      <td>419.0</td>\n",
       "      <td>419.000000</td>\n",
       "      <td>419.0</td>\n",
       "      <td>419.0</td>\n",
       "    </tr>\n",
       "    <tr>\n",
       "      <th>3</th>\n",
       "      <td>0.000000</td>\n",
       "      <td>0.0</td>\n",
       "      <td>0.000000</td>\n",
       "      <td>0.000000</td>\n",
       "      <td>0.0</td>\n",
       "      <td>0.0</td>\n",
       "      <td>0.0</td>\n",
       "      <td>356.000000</td>\n",
       "      <td>426.0</td>\n",
       "      <td>423.666667</td>\n",
       "      <td>...</td>\n",
       "      <td>422.500000</td>\n",
       "      <td>422.5</td>\n",
       "      <td>419.0</td>\n",
       "      <td>428.333333</td>\n",
       "      <td>424.600000</td>\n",
       "      <td>426.0</td>\n",
       "      <td>429.5</td>\n",
       "      <td>419.000000</td>\n",
       "      <td>426.0</td>\n",
       "      <td>419.0</td>\n",
       "    </tr>\n",
       "    <tr>\n",
       "      <th>4</th>\n",
       "      <td>396.000000</td>\n",
       "      <td>396.0</td>\n",
       "      <td>396.000000</td>\n",
       "      <td>398.333333</td>\n",
       "      <td>399.5</td>\n",
       "      <td>413.0</td>\n",
       "      <td>411.0</td>\n",
       "      <td>411.000000</td>\n",
       "      <td>411.0</td>\n",
       "      <td>412.200000</td>\n",
       "      <td>...</td>\n",
       "      <td>429.000000</td>\n",
       "      <td>429.0</td>\n",
       "      <td>429.0</td>\n",
       "      <td>434.000000</td>\n",
       "      <td>444.000000</td>\n",
       "      <td>444.0</td>\n",
       "      <td>444.0</td>\n",
       "      <td>441.750000</td>\n",
       "      <td>446.0</td>\n",
       "      <td>439.0</td>\n",
       "    </tr>\n",
       "    <tr>\n",
       "      <th>...</th>\n",
       "      <td>...</td>\n",
       "      <td>...</td>\n",
       "      <td>...</td>\n",
       "      <td>...</td>\n",
       "      <td>...</td>\n",
       "      <td>...</td>\n",
       "      <td>...</td>\n",
       "      <td>...</td>\n",
       "      <td>...</td>\n",
       "      <td>...</td>\n",
       "      <td>...</td>\n",
       "      <td>...</td>\n",
       "      <td>...</td>\n",
       "      <td>...</td>\n",
       "      <td>...</td>\n",
       "      <td>...</td>\n",
       "      <td>...</td>\n",
       "      <td>...</td>\n",
       "      <td>...</td>\n",
       "      <td>...</td>\n",
       "      <td>...</td>\n",
       "    </tr>\n",
       "    <tr>\n",
       "      <th>159</th>\n",
       "      <td>403.666667</td>\n",
       "      <td>419.0</td>\n",
       "      <td>419.000000</td>\n",
       "      <td>419.000000</td>\n",
       "      <td>433.0</td>\n",
       "      <td>433.0</td>\n",
       "      <td>433.0</td>\n",
       "      <td>429.500000</td>\n",
       "      <td>433.0</td>\n",
       "      <td>433.000000</td>\n",
       "      <td>...</td>\n",
       "      <td>0.000000</td>\n",
       "      <td>0.0</td>\n",
       "      <td>0.0</td>\n",
       "      <td>0.000000</td>\n",
       "      <td>0.000000</td>\n",
       "      <td>0.0</td>\n",
       "      <td>0.0</td>\n",
       "      <td>0.000000</td>\n",
       "      <td>0.0</td>\n",
       "      <td>0.0</td>\n",
       "    </tr>\n",
       "    <tr>\n",
       "      <th>160</th>\n",
       "      <td>433.000000</td>\n",
       "      <td>433.0</td>\n",
       "      <td>423.666667</td>\n",
       "      <td>429.500000</td>\n",
       "      <td>429.5</td>\n",
       "      <td>433.0</td>\n",
       "      <td>426.0</td>\n",
       "      <td>428.333333</td>\n",
       "      <td>429.5</td>\n",
       "      <td>433.000000</td>\n",
       "      <td>...</td>\n",
       "      <td>0.000000</td>\n",
       "      <td>0.0</td>\n",
       "      <td>0.0</td>\n",
       "      <td>0.000000</td>\n",
       "      <td>0.000000</td>\n",
       "      <td>0.0</td>\n",
       "      <td>0.0</td>\n",
       "      <td>0.000000</td>\n",
       "      <td>0.0</td>\n",
       "      <td>0.0</td>\n",
       "    </tr>\n",
       "    <tr>\n",
       "      <th>161</th>\n",
       "      <td>0.000000</td>\n",
       "      <td>0.0</td>\n",
       "      <td>0.000000</td>\n",
       "      <td>0.000000</td>\n",
       "      <td>0.0</td>\n",
       "      <td>0.0</td>\n",
       "      <td>0.0</td>\n",
       "      <td>0.000000</td>\n",
       "      <td>0.0</td>\n",
       "      <td>0.000000</td>\n",
       "      <td>...</td>\n",
       "      <td>419.000000</td>\n",
       "      <td>419.0</td>\n",
       "      <td>419.0</td>\n",
       "      <td>419.000000</td>\n",
       "      <td>409.666667</td>\n",
       "      <td>405.0</td>\n",
       "      <td>405.0</td>\n",
       "      <td>408.000000</td>\n",
       "      <td>413.0</td>\n",
       "      <td>404.5</td>\n",
       "    </tr>\n",
       "    <tr>\n",
       "      <th>162</th>\n",
       "      <td>0.000000</td>\n",
       "      <td>0.0</td>\n",
       "      <td>0.000000</td>\n",
       "      <td>0.000000</td>\n",
       "      <td>0.0</td>\n",
       "      <td>0.0</td>\n",
       "      <td>0.0</td>\n",
       "      <td>0.000000</td>\n",
       "      <td>0.0</td>\n",
       "      <td>0.000000</td>\n",
       "      <td>...</td>\n",
       "      <td>419.000000</td>\n",
       "      <td>419.0</td>\n",
       "      <td>419.0</td>\n",
       "      <td>419.000000</td>\n",
       "      <td>419.000000</td>\n",
       "      <td>419.0</td>\n",
       "      <td>419.0</td>\n",
       "      <td>426.000000</td>\n",
       "      <td>422.5</td>\n",
       "      <td>426.0</td>\n",
       "    </tr>\n",
       "    <tr>\n",
       "      <th>163</th>\n",
       "      <td>0.000000</td>\n",
       "      <td>0.0</td>\n",
       "      <td>0.000000</td>\n",
       "      <td>0.000000</td>\n",
       "      <td>0.0</td>\n",
       "      <td>0.0</td>\n",
       "      <td>232.0</td>\n",
       "      <td>419.000000</td>\n",
       "      <td>433.0</td>\n",
       "      <td>426.000000</td>\n",
       "      <td>...</td>\n",
       "      <td>433.000000</td>\n",
       "      <td>433.0</td>\n",
       "      <td>433.0</td>\n",
       "      <td>433.000000</td>\n",
       "      <td>433.000000</td>\n",
       "      <td>433.0</td>\n",
       "      <td>433.0</td>\n",
       "      <td>433.000000</td>\n",
       "      <td>433.0</td>\n",
       "      <td>433.0</td>\n",
       "    </tr>\n",
       "  </tbody>\n",
       "</table>\n",
       "<p>164 rows × 60 columns</p>\n",
       "</div>"
      ],
      "text/plain": [
       "             0      1           2           3      4      5      6   \\\n",
       "0    426.000000  429.5  426.000000  426.000000  426.0  419.0  419.0   \n",
       "1      0.000000    0.0    0.000000    0.000000    0.0    0.0    0.0   \n",
       "2      0.000000    0.0    0.000000    0.000000    0.0    0.0    0.0   \n",
       "3      0.000000    0.0    0.000000    0.000000    0.0    0.0    0.0   \n",
       "4    396.000000  396.0  396.000000  398.333333  399.5  413.0  411.0   \n",
       "..          ...    ...         ...         ...    ...    ...    ...   \n",
       "159  403.666667  419.0  419.000000  419.000000  433.0  433.0  433.0   \n",
       "160  433.000000  433.0  423.666667  429.500000  429.5  433.0  426.0   \n",
       "161    0.000000    0.0    0.000000    0.000000    0.0    0.0    0.0   \n",
       "162    0.000000    0.0    0.000000    0.000000    0.0    0.0    0.0   \n",
       "163    0.000000    0.0    0.000000    0.000000    0.0    0.0  232.0   \n",
       "\n",
       "             7      8           9   ...          50     51     52          53  \\\n",
       "0    419.000000  419.0  419.000000  ...    0.000000    0.0    0.0    0.000000   \n",
       "1      0.000000    0.0    0.000000  ...  423.666667  419.0  419.0  419.000000   \n",
       "2      0.000000    0.0    0.000000  ...  405.000000  405.0  405.0  405.000000   \n",
       "3    356.000000  426.0  423.666667  ...  422.500000  422.5  419.0  428.333333   \n",
       "4    411.000000  411.0  412.200000  ...  429.000000  429.0  429.0  434.000000   \n",
       "..          ...    ...         ...  ...         ...    ...    ...         ...   \n",
       "159  429.500000  433.0  433.000000  ...    0.000000    0.0    0.0    0.000000   \n",
       "160  428.333333  429.5  433.000000  ...    0.000000    0.0    0.0    0.000000   \n",
       "161    0.000000    0.0    0.000000  ...  419.000000  419.0  419.0  419.000000   \n",
       "162    0.000000    0.0    0.000000  ...  419.000000  419.0  419.0  419.000000   \n",
       "163  419.000000  433.0  426.000000  ...  433.000000  433.0  433.0  433.000000   \n",
       "\n",
       "             54     55     56          57     58     59  \n",
       "0      0.000000    0.0    0.0    0.000000    0.0    0.0  \n",
       "1    411.000000  411.0  411.0  408.333333  400.0  396.0  \n",
       "2    405.000000  412.0  419.0  419.000000  419.0  419.0  \n",
       "3    424.600000  426.0  429.5  419.000000  426.0  419.0  \n",
       "4    444.000000  444.0  444.0  441.750000  446.0  439.0  \n",
       "..          ...    ...    ...         ...    ...    ...  \n",
       "159    0.000000    0.0    0.0    0.000000    0.0    0.0  \n",
       "160    0.000000    0.0    0.0    0.000000    0.0    0.0  \n",
       "161  409.666667  405.0  405.0  408.000000  413.0  404.5  \n",
       "162  419.000000  419.0  419.0  426.000000  422.5  426.0  \n",
       "163  433.000000  433.0  433.0  433.000000  433.0  433.0  \n",
       "\n",
       "[164 rows x 60 columns]"
      ]
     },
     "execution_count": 78,
     "metadata": {},
     "output_type": "execute_result"
    }
   ],
   "source": [
    "pd.DataFrame(ts)"
   ]
  },
  {
   "cell_type": "code",
   "execution_count": 22,
   "metadata": {},
   "outputs": [
    {
     "data": {
      "text/html": [
       "<div>\n",
       "<style scoped>\n",
       "    .dataframe tbody tr th:only-of-type {\n",
       "        vertical-align: middle;\n",
       "    }\n",
       "\n",
       "    .dataframe tbody tr th {\n",
       "        vertical-align: top;\n",
       "    }\n",
       "\n",
       "    .dataframe thead th {\n",
       "        text-align: right;\n",
       "    }\n",
       "</style>\n",
       "<table border=\"1\" class=\"dataframe\">\n",
       "  <thead>\n",
       "    <tr style=\"text-align: right;\">\n",
       "      <th></th>\n",
       "      <th>date</th>\n",
       "      <th>Temperature</th>\n",
       "      <th>Humidity</th>\n",
       "      <th>Light</th>\n",
       "      <th>CO2</th>\n",
       "      <th>HumidityRatio</th>\n",
       "      <th>Occupancy</th>\n",
       "      <th>day_night</th>\n",
       "    </tr>\n",
       "    <tr>\n",
       "      <th>date</th>\n",
       "      <th></th>\n",
       "      <th></th>\n",
       "      <th></th>\n",
       "      <th></th>\n",
       "      <th></th>\n",
       "      <th></th>\n",
       "      <th></th>\n",
       "      <th></th>\n",
       "    </tr>\n",
       "  </thead>\n",
       "  <tbody>\n",
       "    <tr>\n",
       "      <th>2015-02-04 17:51:00</th>\n",
       "      <td>2015-02-04 17:51:00</td>\n",
       "      <td>23.18</td>\n",
       "      <td>27.2720</td>\n",
       "      <td>426.0</td>\n",
       "      <td>721.25</td>\n",
       "      <td>0.004793</td>\n",
       "      <td>1</td>\n",
       "      <td>1</td>\n",
       "    </tr>\n",
       "    <tr>\n",
       "      <th>2015-02-04 17:51:59</th>\n",
       "      <td>2015-02-04 17:51:59</td>\n",
       "      <td>23.15</td>\n",
       "      <td>27.2675</td>\n",
       "      <td>429.5</td>\n",
       "      <td>714.00</td>\n",
       "      <td>0.004783</td>\n",
       "      <td>1</td>\n",
       "      <td>1</td>\n",
       "    </tr>\n",
       "    <tr>\n",
       "      <th>2015-02-04 17:53:00</th>\n",
       "      <td>2015-02-04 17:53:00</td>\n",
       "      <td>23.15</td>\n",
       "      <td>27.2450</td>\n",
       "      <td>426.0</td>\n",
       "      <td>713.50</td>\n",
       "      <td>0.004779</td>\n",
       "      <td>1</td>\n",
       "      <td>1</td>\n",
       "    </tr>\n",
       "    <tr>\n",
       "      <th>2015-02-04 17:54:00</th>\n",
       "      <td>2015-02-04 17:54:00</td>\n",
       "      <td>23.15</td>\n",
       "      <td>27.2000</td>\n",
       "      <td>426.0</td>\n",
       "      <td>708.25</td>\n",
       "      <td>0.004772</td>\n",
       "      <td>1</td>\n",
       "      <td>1</td>\n",
       "    </tr>\n",
       "    <tr>\n",
       "      <th>2015-02-04 17:55:00</th>\n",
       "      <td>2015-02-04 17:55:00</td>\n",
       "      <td>23.10</td>\n",
       "      <td>27.2000</td>\n",
       "      <td>426.0</td>\n",
       "      <td>704.50</td>\n",
       "      <td>0.004757</td>\n",
       "      <td>1</td>\n",
       "      <td>1</td>\n",
       "    </tr>\n",
       "  </tbody>\n",
       "</table>\n",
       "</div>"
      ],
      "text/plain": [
       "                                    date  Temperature  Humidity  Light  \\\n",
       "date                                                                     \n",
       "2015-02-04 17:51:00  2015-02-04 17:51:00        23.18   27.2720  426.0   \n",
       "2015-02-04 17:51:59  2015-02-04 17:51:59        23.15   27.2675  429.5   \n",
       "2015-02-04 17:53:00  2015-02-04 17:53:00        23.15   27.2450  426.0   \n",
       "2015-02-04 17:54:00  2015-02-04 17:54:00        23.15   27.2000  426.0   \n",
       "2015-02-04 17:55:00  2015-02-04 17:55:00        23.10   27.2000  426.0   \n",
       "\n",
       "                        CO2  HumidityRatio  Occupancy  day_night  \n",
       "date                                                              \n",
       "2015-02-04 17:51:00  721.25       0.004793          1          1  \n",
       "2015-02-04 17:51:59  714.00       0.004783          1          1  \n",
       "2015-02-04 17:53:00  713.50       0.004779          1          1  \n",
       "2015-02-04 17:54:00  708.25       0.004772          1          1  \n",
       "2015-02-04 17:55:00  704.50       0.004757          1          1  "
      ]
     },
     "execution_count": 22,
     "metadata": {},
     "output_type": "execute_result"
    }
   ],
   "source": [
    "data=pd.read_csv(\"C:/Users/xhuli/Documents/GIT_REPOS/DM2Project/datatraining.txt\")\n",
    "data.index=pd.to_datetime(data.date, format='%Y-%m-%d %H:%M:%S')\n",
    "data[\"day_night\"]=0\n",
    "data.loc[(data.index.hour >= 7)&(data.index.hour <= 19), [\"day_night\"]]=1\n",
    "data.sort_index(inplace=True)\n",
    "light=data[[\"Light\", \"day_night\"]]\n",
    "temp=data[[\"Temperature\", \"day_night\"]]\n",
    "hum=data[[\"Humidity\", \"day_night\"]]\n",
    "data.head()"
   ]
  },
  {
   "cell_type": "code",
   "execution_count": 23,
   "metadata": {},
   "outputs": [],
   "source": [
    "# split time series in 60 minutes series with on offset of 20 minutes\n",
    "\n",
    "ts_light=[]\n",
    "ts_light_labels=[]\n",
    "for i in range(0,len(light),20):\n",
    "    try:\n",
    "        if len(light.iloc[i:i+60,0].to_list())==60:\n",
    "            ts_light.append(light.iloc[i:i+60,0].to_list())\n",
    "            ts_light_labels.append(light.iloc[i:i+60,1].mean())\n",
    "        else:\n",
    "            pass\n",
    "    except:\n",
    "        pass\n",
    "ts_light_labels=[1 if x>0.65 else 0 for x in ts_light_labels]"
   ]
  },
  {
   "cell_type": "code",
   "execution_count": 24,
   "metadata": {},
   "outputs": [
    {
     "data": {
      "image/png": "[encoded data removed]",
      "text/plain": [
       "<Figure size 432x288 with 2 Axes>"
      ]
     },
     "metadata": {
      "needs_background": "light"
     },
     "output_type": "display_data"
    }
   ],
   "source": [
    "ts_labels=np.array(ts_light_labels)\n",
    "ts=np.array(ts_light)\n",
    "\n",
    "plt.figure()\n",
    "for i, classe in enumerate(['night', 'day']):\n",
    "    plt.subplot(3, 1, i + 1)\n",
    "    for x in ts[ts_labels == i]:\n",
    "        plt.plot(x, color='C0', linewidth=0.9)\n",
    "    plt.title('Class: {}'.format(classe), fontsize=16)\n",
    "\n",
    "plt.tight_layout()\n",
    "plt.subplots_adjust(hspace=0.9)\n",
    "plt.show()"
   ]
  },
  {
   "cell_type": "code",
   "execution_count": 25,
   "metadata": {},
   "outputs": [],
   "source": [
    "ts_no_zeros=[]\n",
    "ts_no_zeros_labels=[]\n",
    "ts_zeros=[]\n",
    "ts_zeros_labels=[]\n",
    "for i, x in enumerate(ts):\n",
    "    if x.mean()==0:\n",
    "        ts_zeros.append(x)\n",
    "        ts_zeros_labels.append(ts_labels[i])\n",
    "    else:\n",
    "        ts_no_zeros.append(x)\n",
    "        ts_no_zeros_labels.append(ts_labels[i])"
   ]
  },
  {
   "cell_type": "code",
   "execution_count": 26,
   "metadata": {},
   "outputs": [],
   "source": [
    "ts_labels=np.array(ts_no_zeros_labels)\n",
    "ts=np.array(ts_no_zeros)"
   ]
  },
  {
   "cell_type": "code",
   "execution_count": 27,
   "metadata": {
    "scrolled": true
   },
   "outputs": [],
   "source": [
    "scaler = TimeSeriesScalerMinMax()\n",
    "X = scaler.fit_transform(ts).reshape(ts.shape[0], ts.shape[1])\n",
    "\n",
    "X = np.append(X, ts_zeros, 0)\n",
    "y = np.append(ts_no_zeros_labels, ts_zeros_labels, 0)"
   ]
  },
  {
   "cell_type": "code",
   "execution_count": 28,
   "metadata": {},
   "outputs": [],
   "source": [
    "from sklearn.model_selection import train_test_split, cross_val_score \n",
    "\n",
    "from sklearn.metrics import accuracy_score, f1_score, classification_report\n",
    "from sklearn.metrics import roc_curve, auc, roc_auc_score"
   ]
  },
  {
   "cell_type": "code",
   "execution_count": 29,
   "metadata": {},
   "outputs": [],
   "source": [
    "X_train, X_test, y_train, y_test = train_test_split(X, y, test_size=0.3, random_state=100, stratify=y)"
   ]
  },
  {
   "cell_type": "markdown",
   "metadata": {},
   "source": [
    "# Feature-based Classifier"
   ]
  },
  {
   "cell_type": "code",
   "execution_count": 30,
   "metadata": {},
   "outputs": [],
   "source": [
    "import scipy.stats as stats"
   ]
  },
  {
   "cell_type": "code",
   "execution_count": 31,
   "metadata": {},
   "outputs": [],
   "source": [
    "def calculate_features(values):\n",
    "    features = {\n",
    "        'avg': np.mean(values),\n",
    "        'std': np.std(values),\n",
    "        'var': np.var(values),\n",
    "        'med': np.median(values),\n",
    "        '10p': np.percentile(values, 10),\n",
    "        '25p': np.percentile(values, 25),\n",
    "        '50p': np.percentile(values, 50),\n",
    "        '75p': np.percentile(values, 75),\n",
    "        '90p': np.percentile(values, 90),\n",
    "        'iqr': np.percentile(values, 75) - np.percentile(values, 25),\n",
    "        'cov': 1.0 * np.mean(values) / np.std(values),\n",
    "        'skw': stats.skew(values),\n",
    "        'kur': stats.kurtosis(values)\n",
    "    }\n",
    "\n",
    "    return features"
   ]
  },
  {
   "cell_type": "code",
   "execution_count": 38,
   "metadata": {},
   "outputs": [
    {
     "name": "stderr",
     "output_type": "stream",
     "text": [
      "C:\\Users\\xhuli\\anaconda3\\lib\\site-packages\\ipykernel_launcher.py:13: RuntimeWarning: invalid value encountered in double_scalars\n",
      "  del sys.path[0]\n"
     ]
    }
   ],
   "source": [
    "X_train3 = np.array([list(calculate_features(x).values())[:-3] for x in X_train])"
   ]
  },
  {
   "cell_type": "code",
   "execution_count": 39,
   "metadata": {},
   "outputs": [
    {
     "name": "stderr",
     "output_type": "stream",
     "text": [
      "C:\\Users\\xhuli\\anaconda3\\lib\\site-packages\\ipykernel_launcher.py:13: RuntimeWarning: invalid value encountered in double_scalars\n",
      "  del sys.path[0]\n"
     ]
    }
   ],
   "source": [
    "X_test3 = np.array([list(calculate_features(x).values())[:-3] for x in X_test])"
   ]
  },
  {
   "cell_type": "code",
   "execution_count": 40,
   "metadata": {},
   "outputs": [],
   "source": [
    "from sklearn.tree import DecisionTreeClassifier"
   ]
  },
  {
   "cell_type": "code",
   "execution_count": 41,
   "metadata": {},
   "outputs": [
    {
     "name": "stdout",
     "output_type": "stream",
     "text": [
      "Accuracy 0.9098360655737705\n",
      "F1-score [0.91729323 0.9009009 ]\n",
      "              precision    recall  f1-score   support\n",
      "\n",
      "           0       0.85      1.00      0.92        61\n",
      "           1       1.00      0.82      0.90        61\n",
      "\n",
      "    accuracy                           0.91       122\n",
      "   macro avg       0.92      0.91      0.91       122\n",
      "weighted avg       0.92      0.91      0.91       122\n",
      "\n"
     ]
    }
   ],
   "source": [
    "clf = DecisionTreeClassifier(max_depth=8, random_state=42)\n",
    "clf.fit(X_train3, y_train)\n",
    "\n",
    "y_pred = clf.predict(X_test3)\n",
    "\n",
    "print('Accuracy %s' % accuracy_score(y_test, y_pred))\n",
    "print('F1-score %s' % f1_score(y_test, y_pred, average=None))\n",
    "print(classification_report(y_test, y_pred))"
   ]
  },
  {
   "cell_type": "markdown",
   "metadata": {},
   "source": [
    "# Time Series Classifier"
   ]
  },
  {
   "cell_type": "code",
   "execution_count": 43,
   "metadata": {},
   "outputs": [],
   "source": [
    "from sklearn.neighbors import KNeighborsClassifier"
   ]
  },
  {
   "cell_type": "code",
   "execution_count": 51,
   "metadata": {},
   "outputs": [
    {
     "name": "stdout",
     "output_type": "stream",
     "text": [
      "Accuracy 0.9016393442622951\n",
      "F1-score [0.91044776 0.89090909]\n",
      "              precision    recall  f1-score   support\n",
      "\n",
      "           0       0.84      1.00      0.91        61\n",
      "           1       1.00      0.80      0.89        61\n",
      "\n",
      "    accuracy                           0.90       122\n",
      "   macro avg       0.92      0.90      0.90       122\n",
      "weighted avg       0.92      0.90      0.90       122\n",
      "\n"
     ]
    }
   ],
   "source": [
    "clf = KNeighborsClassifier(n_neighbors=2, weights='uniform')\n",
    "clf.fit(X_train, y_train)\n",
    "\n",
    "y_pred = clf.predict(X_test)\n",
    "\n",
    "print('Accuracy %s' % accuracy_score(y_test, y_pred))\n",
    "print('F1-score %s' % f1_score(y_test, y_pred, average=None))\n",
    "print(classification_report(y_test, y_pred))"
   ]
  },
  {
   "cell_type": "code",
   "execution_count": 52,
   "metadata": {},
   "outputs": [
    {
     "name": "stdout",
     "output_type": "stream",
     "text": [
      "Accuracy 0.9016393442622951\n",
      "F1-score [0.91044776 0.89090909]\n",
      "              precision    recall  f1-score   support\n",
      "\n",
      "           0       0.84      1.00      0.91        61\n",
      "           1       1.00      0.80      0.89        61\n",
      "\n",
      "    accuracy                           0.90       122\n",
      "   macro avg       0.92      0.90      0.90       122\n",
      "weighted avg       0.92      0.90      0.90       122\n",
      "\n"
     ]
    }
   ],
   "source": [
    "clf = DecisionTreeClassifier(max_depth=8, random_state=42)\n",
    "clf.fit(X_train, y_train)\n",
    "\n",
    "y_pred = clf.predict(X_test)\n",
    "\n",
    "print('Accuracy %s' % accuracy_score(y_test, y_pred))\n",
    "print('F1-score %s' % f1_score(y_test, y_pred, average=None))\n",
    "print(classification_report(y_test, y_pred))"
   ]
  },
  {
   "cell_type": "markdown",
   "metadata": {},
   "source": [
    "# CNN Classifier"
   ]
  },
  {
   "cell_type": "code",
   "execution_count": 57,
   "metadata": {},
   "outputs": [],
   "source": [
    "from keras.models import Sequential\n",
    "from keras.layers import Dense, Dropout, GlobalAveragePooling1D\n",
    "from keras.layers import Conv1D, Activation, Conv1D, BatchNormalization"
   ]
  },
  {
   "cell_type": "code",
   "execution_count": 58,
   "metadata": {},
   "outputs": [],
   "source": [
    "def build_simple_cnn(n_timesteps, n_outputs):\n",
    "    model = Sequential()\n",
    "    \n",
    "    model.add(Conv1D(filters=16, kernel_size=8, activation='relu', input_shape=(n_timesteps, 1)))\n",
    "    model.add(BatchNormalization())\n",
    "    model.add(Activation('relu'))\n",
    "    \n",
    "    model.add(Dropout(0.3))\n",
    "    \n",
    "    model.add(Conv1D(filters=32, kernel_size=5, activation='relu'))\n",
    "    model.add(BatchNormalization())\n",
    "    model.add(Activation('relu'))\n",
    "    \n",
    "    model.add(Dropout(0.3))\n",
    "    \n",
    "    model.add(Conv1D(filters=64, kernel_size=3, activation='relu'))\n",
    "    model.add(BatchNormalization())\n",
    "    model.add(Activation('relu'))\n",
    "    \n",
    "    model.add(Dropout(0.3))\n",
    "    \n",
    "    model.add(GlobalAveragePooling1D())\n",
    "    \n",
    "    model.add(Dense(n_outputs, activation='sigmoid'))\n",
    "    model.compile(loss='sparse_categorical_crossentropy', optimizer='adam', metrics=['accuracy'])\n",
    "    \n",
    "    return model"
   ]
  },
  {
   "cell_type": "code",
   "execution_count": 59,
   "metadata": {},
   "outputs": [
    {
     "name": "stdout",
     "output_type": "stream",
     "text": [
      "TIMESTEPS:  60\n",
      "N. LABELS:  2\n"
     ]
    }
   ],
   "source": [
    "X_train_cnn = X_train.reshape((X_train.shape[0], X_train.shape[1], 1))\n",
    "X_test_cnn = X_test.reshape((X_test.shape[0], X_test.shape[1], 1))\n",
    "\n",
    "X_train_cnn, X_val_cnn, y_train_cnn, y_val_cnn = train_test_split(X_train_cnn, y_train, test_size=0.2, stratify=y_train)\n",
    "\n",
    "n_timesteps, n_outputs, n_features = X_train_cnn.shape[1], len(np.unique(y_train_cnn)), 1 \n",
    "print(\"TIMESTEPS: \", n_timesteps)\n",
    "print(\"N. LABELS: \", n_outputs)"
   ]
  },
  {
   "cell_type": "code",
   "execution_count": 60,
   "metadata": {},
   "outputs": [
    {
     "name": "stdout",
     "output_type": "stream",
     "text": [
      "WARNING:tensorflow:From C:\\Users\\xhuli\\anaconda3\\lib\\site-packages\\tensorflow\\python\\ops\\resource_variable_ops.py:435: colocate_with (from tensorflow.python.framework.ops) is deprecated and will be removed in a future version.\n",
      "Instructions for updating:\n",
      "Colocations handled automatically by placer.\n"
     ]
    }
   ],
   "source": [
    "cnn = build_simple_cnn(n_timesteps, n_outputs)"
   ]
  },
  {
   "cell_type": "code",
   "execution_count": 61,
   "metadata": {},
   "outputs": [
    {
     "name": "stdout",
     "output_type": "stream",
     "text": [
      "Model: \"sequential_1\"\n",
      "_________________________________________________________________\n",
      "Layer (type)                 Output Shape              Param #   \n",
      "=================================================================\n",
      "conv1d_1 (Conv1D)            (None, 53, 16)            144       \n",
      "_________________________________________________________________\n",
      "batch_normalization_1 (Batch (None, 53, 16)            64        \n",
      "_________________________________________________________________\n",
      "activation_1 (Activation)    (None, 53, 16)            0         \n",
      "_________________________________________________________________\n",
      "dropout_1 (Dropout)          (None, 53, 16)            0         \n",
      "_________________________________________________________________\n",
      "conv1d_2 (Conv1D)            (None, 49, 32)            2592      \n",
      "_________________________________________________________________\n",
      "batch_normalization_2 (Batch (None, 49, 32)            128       \n",
      "_________________________________________________________________\n",
      "activation_2 (Activation)    (None, 49, 32)            0         \n",
      "_________________________________________________________________\n",
      "dropout_2 (Dropout)          (None, 49, 32)            0         \n",
      "_________________________________________________________________\n",
      "conv1d_3 (Conv1D)            (None, 47, 64)            6208      \n",
      "_________________________________________________________________\n",
      "batch_normalization_3 (Batch (None, 47, 64)            256       \n",
      "_________________________________________________________________\n",
      "activation_3 (Activation)    (None, 47, 64)            0         \n",
      "_________________________________________________________________\n",
      "dropout_3 (Dropout)          (None, 47, 64)            0         \n",
      "_________________________________________________________________\n",
      "global_average_pooling1d_1 ( (None, 64)                0         \n",
      "_________________________________________________________________\n",
      "dense_1 (Dense)              (None, 2)                 130       \n",
      "=================================================================\n",
      "Total params: 9,522\n",
      "Trainable params: 9,298\n",
      "Non-trainable params: 224\n",
      "_________________________________________________________________\n"
     ]
    }
   ],
   "source": [
    "cnn.summary()"
   ]
  },
  {
   "cell_type": "code",
   "execution_count": 62,
   "metadata": {},
   "outputs": [],
   "source": [
    "from keras.callbacks import ReduceLROnPlateau, ModelCheckpoint"
   ]
  },
  {
   "cell_type": "code",
   "execution_count": 63,
   "metadata": {},
   "outputs": [],
   "source": [
    "rlr = ReduceLROnPlateau(monitor='loss', factor=0.5, patience=50, min_lr=0.0001)\n",
    "mc = ModelCheckpoint('best_model_cnn.h5', monitor='val_loss', save_best_only=True)\n",
    "\n",
    "callbacks = [rlr, mc]\n",
    "\n",
    "batch_size = 16\n",
    "mini_batch_size = int(min(X_train_cnn.shape[0]/10, batch_size))"
   ]
  },
  {
   "cell_type": "code",
   "execution_count": 64,
   "metadata": {},
   "outputs": [
    {
     "name": "stdout",
     "output_type": "stream",
     "text": [
      "WARNING:tensorflow:From C:\\Users\\xhuli\\anaconda3\\lib\\site-packages\\tensorflow\\python\\ops\\math_ops.py:3066: to_int32 (from tensorflow.python.ops.math_ops) is deprecated and will be removed in a future version.\n",
      "Instructions for updating:\n",
      "Use tf.cast instead.\n",
      "Train on 226 samples, validate on 57 samples\n",
      "Epoch 1/5\n",
      "226/226 [==============================] - 1s 4ms/step - loss: 0.6346 - accuracy: 0.4027 - val_loss: 0.6606 - val_accuracy: 0.4912\n",
      "Epoch 2/5\n",
      "226/226 [==============================] - 0s 588us/step - loss: 0.5123 - accuracy: 0.8451 - val_loss: 0.6650 - val_accuracy: 0.9298\n",
      "Epoch 3/5\n",
      "226/226 [==============================] - 0s 583us/step - loss: 0.4569 - accuracy: 0.8850 - val_loss: 0.6756 - val_accuracy: 0.9123\n",
      "Epoch 4/5\n",
      "226/226 [==============================] - 0s 487us/step - loss: 0.3894 - accuracy: 0.8850 - val_loss: 0.6840 - val_accuracy: 0.8070\n",
      "Epoch 5/5\n",
      "226/226 [==============================] - 0s 499us/step - loss: 0.3468 - accuracy: 0.8938 - val_loss: 0.6895 - val_accuracy: 0.5614\n"
     ]
    }
   ],
   "source": [
    "history_cnn = cnn.fit(X_train_cnn, y_train_cnn, epochs=5, batch_size=mini_batch_size, callbacks=callbacks,\n",
    "                      validation_data=(X_val_cnn, y_val_cnn)).history"
   ]
  },
  {
   "cell_type": "code",
   "execution_count": 65,
   "metadata": {},
   "outputs": [
    {
     "name": "stdout",
     "output_type": "stream",
     "text": [
      "Accuracy 0.5983606557377049\n",
      "F1-score [0.71345029 0.32876712]\n",
      "              precision    recall  f1-score   support\n",
      "\n",
      "           0       0.55      1.00      0.71        61\n",
      "           1       1.00      0.20      0.33        61\n",
      "\n",
      "    accuracy                           0.60       122\n",
      "   macro avg       0.78      0.60      0.52       122\n",
      "weighted avg       0.78      0.60      0.52       122\n",
      "\n"
     ]
    }
   ],
   "source": [
    "y_pred = np.argmax(cnn.predict(X_test_cnn), axis=1)\n",
    "\n",
    "print('Accuracy %s' % accuracy_score(y_test, y_pred))\n",
    "print('F1-score %s' % f1_score(y_test, y_pred, average=None))\n",
    "print(classification_report(y_test, y_pred))"
   ]
  },
  {
   "cell_type": "code",
   "execution_count": 66,
   "metadata": {},
   "outputs": [
    {
     "name": "stdout",
     "output_type": "stream",
     "text": [
      "122/122 [==============================] - 0s 106us/step\n"
     ]
    },
    {
     "data": {
      "text/plain": [
       "[0.6890321940672203, 0.5983606576919556]"
      ]
     },
     "execution_count": 66,
     "metadata": {},
     "output_type": "execute_result"
    }
   ],
   "source": [
    "cnn.evaluate(X_test_cnn, y_test)"
   ]
  },
  {
   "cell_type": "markdown",
   "metadata": {},
   "source": [
    "# LSTM Classifier"
   ]
  },
  {
   "cell_type": "code",
   "execution_count": 67,
   "metadata": {},
   "outputs": [],
   "source": [
    "from keras.layers import LSTM"
   ]
  },
  {
   "cell_type": "code",
   "execution_count": 68,
   "metadata": {},
   "outputs": [],
   "source": [
    "def build_lstm(n_timesteps, n_outputs):\n",
    "    model = Sequential()\n",
    "    model.add(LSTM(256, input_shape=(n_timesteps, 1)))\n",
    "    model.add(Dropout(0.5))\n",
    "    model.add(Dense(64, activation='relu'))\n",
    "    model.add(Dropout(0.2))\n",
    "    model.add(Dense(n_outputs, activation='sigmoid'))\n",
    "    \n",
    "    model.compile(loss='sparse_categorical_crossentropy', optimizer='adam', metrics=['accuracy'])\n",
    "    \n",
    "    return model"
   ]
  },
  {
   "cell_type": "code",
   "execution_count": 69,
   "metadata": {},
   "outputs": [],
   "source": [
    "lstm = build_lstm(n_timesteps, n_outputs)"
   ]
  },
  {
   "cell_type": "code",
   "execution_count": 70,
   "metadata": {},
   "outputs": [
    {
     "name": "stdout",
     "output_type": "stream",
     "text": [
      "Model: \"sequential_2\"\n",
      "_________________________________________________________________\n",
      "Layer (type)                 Output Shape              Param #   \n",
      "=================================================================\n",
      "lstm_1 (LSTM)                (None, 256)               264192    \n",
      "_________________________________________________________________\n",
      "dropout_4 (Dropout)          (None, 256)               0         \n",
      "_________________________________________________________________\n",
      "dense_2 (Dense)              (None, 64)                16448     \n",
      "_________________________________________________________________\n",
      "dropout_5 (Dropout)          (None, 64)                0         \n",
      "_________________________________________________________________\n",
      "dense_3 (Dense)              (None, 2)                 130       \n",
      "=================================================================\n",
      "Total params: 280,770\n",
      "Trainable params: 280,770\n",
      "Non-trainable params: 0\n",
      "_________________________________________________________________\n"
     ]
    }
   ],
   "source": [
    "lstm.summary()"
   ]
  },
  {
   "cell_type": "code",
   "execution_count": 72,
   "metadata": {},
   "outputs": [
    {
     "name": "stdout",
     "output_type": "stream",
     "text": [
      "Train on 226 samples, validate on 57 samples\n",
      "Epoch 1/10\n",
      "226/226 [==============================] - 0s 583us/step - loss: 0.3533 - accuracy: 0.8850 - val_loss: 0.6906 - val_accuracy: 0.5614\n",
      "Epoch 2/10\n",
      "226/226 [==============================] - 0s 578us/step - loss: 0.3123 - accuracy: 0.8938 - val_loss: 0.6919 - val_accuracy: 0.5088\n",
      "Epoch 3/10\n",
      "226/226 [==============================] - 0s 579us/step - loss: 0.3179 - accuracy: 0.8938 - val_loss: 0.6923 - val_accuracy: 0.5088\n",
      "Epoch 4/10\n",
      "226/226 [==============================] - 0s 560us/step - loss: 0.3368 - accuracy: 0.8894 - val_loss: 0.6926 - val_accuracy: 0.5088\n",
      "Epoch 5/10\n",
      "226/226 [==============================] - 0s 496us/step - loss: 0.3274 - accuracy: 0.8894 - val_loss: 0.6926 - val_accuracy: 0.5088\n",
      "Epoch 6/10\n",
      "226/226 [==============================] - 0s 520us/step - loss: 0.3213 - accuracy: 0.8938 - val_loss: 0.6926 - val_accuracy: 0.5088\n",
      "Epoch 7/10\n",
      "226/226 [==============================] - 0s 528us/step - loss: 0.3050 - accuracy: 0.8982 - val_loss: 0.6923 - val_accuracy: 0.5088\n",
      "Epoch 8/10\n",
      "226/226 [==============================] - 0s 499us/step - loss: 0.3152 - accuracy: 0.8938 - val_loss: 0.6916 - val_accuracy: 0.5088\n",
      "Epoch 9/10\n",
      "226/226 [==============================] - 0s 504us/step - loss: 0.3119 - accuracy: 0.8938 - val_loss: 0.6908 - val_accuracy: 0.5789\n",
      "Epoch 10/10\n",
      "226/226 [==============================] - 0s 496us/step - loss: 0.3003 - accuracy: 0.8982 - val_loss: 0.6906 - val_accuracy: 0.5789\n"
     ]
    }
   ],
   "source": [
    "history_lstm = cnn.fit(X_train_cnn, y_train_cnn, epochs=10, batch_size=mini_batch_size, callbacks=callbacks,\n",
    "                       validation_data=(X_val_cnn, y_val_cnn)).history"
   ]
  },
  {
   "cell_type": "code",
   "execution_count": 73,
   "metadata": {},
   "outputs": [
    {
     "name": "stdout",
     "output_type": "stream",
     "text": [
      "Accuracy 0.9098360655737705\n",
      "F1-score [0.91729323 0.9009009 ]\n",
      "              precision    recall  f1-score   support\n",
      "\n",
      "           0       0.85      1.00      0.92        61\n",
      "           1       1.00      0.82      0.90        61\n",
      "\n",
      "    accuracy                           0.91       122\n",
      "   macro avg       0.92      0.91      0.91       122\n",
      "weighted avg       0.92      0.91      0.91       122\n",
      "\n"
     ]
    }
   ],
   "source": [
    "y_pred = np.argmax(lstm.predict(X_test_cnn), axis=1)\n",
    "\n",
    "print('Accuracy %s' % accuracy_score(y_test, y_pred))\n",
    "print('F1-score %s' % f1_score(y_test, y_pred, average=None))\n",
    "print(classification_report(y_test, y_pred))"
   ]
  },
  {
   "cell_type": "code",
   "execution_count": 74,
   "metadata": {},
   "outputs": [
    {
     "name": "stdout",
     "output_type": "stream",
     "text": [
      "122/122 [==============================] - 0s 2ms/step\n"
     ]
    },
    {
     "data": {
      "text/plain": [
       "[0.6894058643794451, 0.9098360538482666]"
      ]
     },
     "execution_count": 74,
     "metadata": {},
     "output_type": "execute_result"
    }
   ],
   "source": [
    "lstm.evaluate(X_test_cnn, y_test)"
   ]
  },
  {
   "cell_type": "code",
   "execution_count": null,
   "metadata": {},
   "outputs": [],
   "source": []
  }
 ],
 "metadata": {
  "kernelspec": {
   "display_name": "Python 3",
   "language": "python",
   "name": "python3"
  },
  "language_info": {
   "codemirror_mode": {
    "name": "ipython",
    "version": 3
   },
   "file_extension": ".py",
   "mimetype": "text/x-python",
   "name": "python",
   "nbconvert_exporter": "python",
   "pygments_lexer": "ipython3",
   "version": "3.7.6"
  }
 },
 "nbformat": 4,
 "nbformat_minor": 4
}
